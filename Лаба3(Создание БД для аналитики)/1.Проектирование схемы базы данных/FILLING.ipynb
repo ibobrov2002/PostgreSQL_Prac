{
 "cells": [
  {
   "cell_type": "code",
   "execution_count": 1,
   "id": "9510d151",
   "metadata": {},
   "outputs": [],
   "source": [
    "import random\n",
    "import datetime\n",
    "from typing import Generic\n",
    "from mimesis import Person\n",
    "from mimesis import Generic\n",
    "from mimesis.enums import Gender\n",
    "from mimesis.builtins import RussiaSpecProvider\n",
    "from faker import Faker\n",
    "from mimesis.types import JSON\n",
    "\n",
    "fake = Faker()\n",
    "p = Person('ru')\n",
    "g = Generic('ru')\n",
    "g.add_provider(RussiaSpecProvider)\n",
    "\n",
    "class Housing:\n",
    "    def __init__(self, id, payment_file):\n",
    "        n = random.randint(0, 1)\n",
    "        rand_gender = 0\n",
    "        if n == 0:\n",
    "            rand_gender = Gender.FEMALE\n",
    "        else:\n",
    "            rand_gender = Gender.MALE\n",
    "        self.id=id\n",
    "        self.owner=f'{g.person.surname(gender=rand_gender)} {g.person.name(gender=rand_gender)} ' \\\n",
    "            f'{g.russia_provider.patronymic(gender=rand_gender)}'\n",
    "        self.housing_data='{'+f'\"apartment\" : {random.randint(1, 500)}, \"floor\" : {random.randint(1, 30)}, ' \\\n",
    "            f'\"entrance\" : {random.randint(1, 10)}, \"number room\" : {random.randint(1, 5)}, ' \\\n",
    "            f'\"street\" : \"{g.person.surname(gender=Gender.FEMALE)}\"'+'}'\n",
    "        self.owner_details=self.owner + f' +{random.randint(7*10**10, 8*10**10-1)} ' \\\n",
    "            f'{random.choice([\"Женат/Замужем\", \"Холост/Холоста\", \"Вдовец/Вдова\"])} {random.randint(0, 10**10-1):010}'\n",
    "        self.tenants=set()\n",
    "        self.tenants.add(self.owner)\n",
    "        n=random.randint(0, 9)\n",
    "        for i in range(n):\n",
    "            self.tenants.add(f'{g.person.surname(gender=rand_gender)} {g.person.name(gender=rand_gender)} ' \\\n",
    "            f'{g.russia_provider.patronymic(gender=rand_gender)}')\n",
    "        createPayment(id-1, self.owner, payment_file)"
   ]
  },
  {
   "cell_type": "code",
   "execution_count": 2,
   "id": "b4641437",
   "metadata": {},
   "outputs": [],
   "source": [
    "def createHousing():\n",
    "    payment_file=open('payments.txt', 'w')\n",
    "    housings = [Housing(i+1, payment_file) for i in range(10**6)]\n",
    "    housing_file = open('housings.txt', 'w')\n",
    "    for housing in housings:\n",
    "        housing_file.write(f'{housing.id}|{housing.housing_data}|{housing.owner_details}|{housing.tenants}\\n')\n",
    "    housing_file.close()\n",
    "    payment_file.close()"
   ]
  },
  {
   "cell_type": "code",
   "execution_count": 8,
   "id": "2fa4dcb4",
   "metadata": {},
   "outputs": [],
   "source": [
    "createHousing()"
   ]
  },
  {
   "cell_type": "code",
   "execution_count": 7,
   "id": "b034ac63",
   "metadata": {},
   "outputs": [],
   "source": [
    "serv=['Электричество', 'Горячая вода', 'Холодная вода', 'Газ', 'Канализация', 'Отопление', 'Вывоз мусора',\n",
    "'Аренда', 'Ремонт помещения', 'Ремонт общего имущества', 'Уход за общим имуществом', 'Капитальный ремонт общего имущества', \n",
    "'Замена электропроводки', 'Замена сантехприборов', 'Замена водоразборной арматуры', 'Смена неисправного выключателя, переключателя', \n",
    "'Установка фильтров для воды', 'Тепловая энергия', 'Твёрдое топливо', 'ППР']\n",
    "serv_count=[True, True, True, True, True, True, False, False, False,\n",
    "False, False, False, False, False, False, False, False, True, True, False]\n",
    "\n",
    "def random_date(start, end) -> str:\n",
    "    return str(fake.date_between(start_date=start, end_date=end))\n",
    "\n",
    "def createPayment(id_house, owner, payment_file):\n",
    "    start_date = datetime.date(year=1971, month=1, day=1)\n",
    "    end_date = datetime.date(year=2022, month=10, day=1)\n",
    "    for i in range(100):\n",
    "        id=id_house*100+i+1\n",
    "        id_housing=id_house+1\n",
    "        id_service=random.randint(1, 20)\n",
    "        month=random.randint(1, 12)\n",
    "        year=random.randint(1971, 2022)\n",
    "        amount=random.randint(5, 15000)\n",
    "        date_entry=random_date(start_date, end_date)\n",
    "        counter_units=random.randint(1, 100)\n",
    "        title_service=serv[id_service-1]\n",
    "        presence_counter=serv_count[id_service-1]\n",
    "        name_owner=owner\n",
    "        payment_file.write(f'{id}|{id_housing}|{id_service}|{month}|{year}|' \\\n",
    "            f'{amount}|{date_entry}|{counter_units}|{title_service}|{presence_counter}|{name_owner}\\n')"
   ]
  },
  {
   "cell_type": "code",
   "execution_count": null,
   "id": "28cbe27f",
   "metadata": {},
   "outputs": [],
   "source": []
  },
  {
   "cell_type": "code",
   "execution_count": null,
   "id": "7ba5515f",
   "metadata": {},
   "outputs": [],
   "source": []
  }
 ],
 "metadata": {
  "kernelspec": {
   "display_name": "Python 3 (ipykernel)",
   "language": "python",
   "name": "python3"
  },
  "language_info": {
   "codemirror_mode": {
    "name": "ipython",
    "version": 3
   },
   "file_extension": ".py",
   "mimetype": "text/x-python",
   "name": "python",
   "nbconvert_exporter": "python",
   "pygments_lexer": "ipython3",
   "version": "3.10.6"
  }
 },
 "nbformat": 4,
 "nbformat_minor": 5
}
